{
 "cells": [
  {
   "cell_type": "code",
   "execution_count": 49,
   "metadata": {},
   "outputs": [],
   "source": [
    "import numpy as np\n",
    "import pandas as pd\n",
    "import matplotlib.pyplot as plt\n",
    "import sklearn\n",
    "from sklearn.linear_model import LinearRegression\n",
    "from sklearn.metrics import mean_squared_error, mean_absolute_error, r2_score\n"
   ]
  },
  {
   "cell_type": "code",
   "execution_count": 50,
   "metadata": {},
   "outputs": [],
   "source": [
    "df = pd.read_csv(\"Data4.csv\")\n",
    "# df"
   ]
  },
  {
   "cell_type": "code",
   "execution_count": 51,
   "metadata": {},
   "outputs": [],
   "source": [
    "df = df.drop('Sl.', axis = 1)"
   ]
  },
  {
   "cell_type": "code",
   "execution_count": 52,
   "metadata": {},
   "outputs": [],
   "source": [
    "df.insert(0, \"x0\", 1)\n",
    "d=4"
   ]
  },
  {
   "cell_type": "code",
   "execution_count": 53,
   "metadata": {},
   "outputs": [
    {
     "data": {
      "text/plain": [
       "array([[0., 0., 0., 0.],\n",
       "       [0., 0., 0., 0.],\n",
       "       [0., 0., 0., 0.],\n",
       "       [0., 0., 0., 0.]])"
      ]
     },
     "execution_count": 53,
     "metadata": {},
     "output_type": "execute_result"
    }
   ],
   "source": [
    "accu_vector = np.array(([0.],)*d)\n",
    "accu_matrix = accu_vector * accu_vector.T\n",
    "accu_matrix"
   ]
  },
  {
   "cell_type": "code",
   "execution_count": 54,
   "metadata": {},
   "outputs": [
    {
     "data": {
      "text/plain": [
       "(4, 4)"
      ]
     },
     "execution_count": 54,
     "metadata": {},
     "output_type": "execute_result"
    }
   ],
   "source": [
    "def Xi_Xi_T(df):\n",
    "    Xi_XiT_vect =  accu_matrix\n",
    "    for i in range(len(df)):\n",
    "        Xi_XiT_vect += (np.array((df.iloc[i][:d],)).T) @ (np.array((df.iloc[i][:d],)))\n",
    "    return Xi_XiT_vect    \n",
    "   \n",
    "Xi_XiT_vector = Xi_Xi_T(df)\n",
    "\n",
    "inverse = np.linalg.inv(Xi_XiT_vector)\n",
    "inverse.shape "
   ]
  },
  {
   "cell_type": "code",
   "execution_count": 55,
   "metadata": {},
   "outputs": [],
   "source": [
    "def XiYi(df):\n",
    "    l = accu_vector\n",
    "    \n",
    "    for i in range(len(df)):\n",
    "        l += (np.array((df.iloc[i][:d],)).T) @ (np.array((df.iloc[i][d:],)).T)\n",
    "    return l    \n",
    "xiyi_vector = XiYi(df)        "
   ]
  },
  {
   "cell_type": "code",
   "execution_count": 56,
   "metadata": {},
   "outputs": [
    {
     "data": {
      "text/plain": [
       "array([[13.23947782],\n",
       "       [ 6.13243763],\n",
       "       [ 2.39226554],\n",
       "       [ 7.74681038]])"
      ]
     },
     "execution_count": 56,
     "metadata": {},
     "output_type": "execute_result"
    }
   ],
   "source": [
    "w = np.matmul(inverse, xiyi_vector)\n",
    "w"
   ]
  },
  {
   "cell_type": "code",
   "execution_count": 57,
   "metadata": {},
   "outputs": [],
   "source": [
    "def predict(vector):\n",
    "    global w\n",
    "    \n",
    "    return w.T @ vector\n",
    "\n",
    "def prediction_values(df):\n",
    "    lst = []\n",
    "    \n",
    "    for i in range(len(df)):\n",
    "        k = predict(df.iloc[i][:d])\n",
    "        lst.append(k[0])\n",
    "    return lst\n",
    "\n",
    "prediction_val = prediction_values(df)\n",
    "df[\"predicted_values\"] = prediction_val"
   ]
  },
  {
   "cell_type": "code",
   "execution_count": 58,
   "metadata": {},
   "outputs": [
    {
     "data": {
      "text/plain": [
       "0.9841749058943147"
      ]
     },
     "execution_count": 58,
     "metadata": {},
     "output_type": "execute_result"
    }
   ],
   "source": [
    "RSS = np.sum((df['y'] - df['predicted_values'])**2)\n",
    "TSS = np.sum((np.mean(df['y']) - df['y'])**2)\n",
    "R2 = 1 - (RSS/TSS)\n",
    "R2"
   ]
  },
  {
   "cell_type": "code",
   "execution_count": 59,
   "metadata": {},
   "outputs": [
    {
     "name": "stdout",
     "output_type": "stream",
     "text": [
      "Mean Square Error:  34.620480829243554\n",
      "Root Mean Square Error:  5.883917133104744\n",
      "Mean Absolute Error:  5.155505630377769\n",
      "R square val:  0.9841749058943147\n"
     ]
    }
   ],
   "source": [
    "MSE = np.mean((df['y'] - df['predicted_values'])**2)\n",
    "RMSE = np.sqrt(np.mean((df['y'] - df['predicted_values'])**2))\n",
    "MAE = np.mean(abs(df['y'] - df['predicted_values']))\n",
    "print(\"Mean Square Error: \", MSE)\n",
    "print(\"Root Mean Square Error: \", RMSE)\n",
    "print(\"Mean Absolute Error: \", MAE)\n",
    "print(\"R square val: \",R2)"
   ]
  },
  {
   "cell_type": "code",
   "execution_count": 60,
   "metadata": {},
   "outputs": [
    {
     "data": {
      "text/plain": [
       "Text(0.5, 1.0, 'Linear Regression Dataset 4')"
      ]
     },
     "execution_count": 60,
     "metadata": {},
     "output_type": "execute_result"
    },
    {
     "data": {
      "image/png": "[encoded data removed]",
      "text/plain": [
       "<Figure size 640x480 with 1 Axes>"
      ]
     },
     "metadata": {},
     "output_type": "display_data"
    }
   ],
   "source": [
    "x = list(df[\"x1\"])\n",
    "y = list(df[\"y\"])\n",
    "y1 = list(df[\"predicted_values\"])\n",
    "\n",
    "\n",
    "plt.scatter(x, y,s=5)\n",
    "plt.scatter(x, y1, color='red',s=5)\n",
    "plt.xlabel(\"X\")\n",
    "plt.ylabel(\"Y\")\n",
    "plt.title(\"Linear Regression Dataset 4\")"
   ]
  },
  {
   "cell_type": "code",
   "execution_count": 61,
   "metadata": {},
   "outputs": [
    {
     "data": {
      "text/plain": [
       "Text(0.5, 1.0, 'Linear Regression Dataset 4')"
      ]
     },
     "execution_count": 61,
     "metadata": {},
     "output_type": "execute_result"
    },
    {
     "data": {
      "image/png": "[encoded data removed]",
      "text/plain": [
       "<Figure size 640x480 with 1 Axes>"
      ]
     },
     "metadata": {},
     "output_type": "display_data"
    }
   ],
   "source": [
    "x = list(df[\"x2\"])\n",
    "y = list(df[\"y\"])\n",
    "y1 = list(df[\"predicted_values\"])\n",
    "\n",
    "\n",
    "plt.scatter(x, y,s=5)\n",
    "plt.scatter(x, y1, color='red',s=5)\n",
    "plt.xlabel(\"X\")\n",
    "plt.ylabel(\"Y\")\n",
    "plt.title(\"Linear Regression Dataset 4\")"
   ]
  },
  {
   "cell_type": "code",
   "execution_count": 62,
   "metadata": {},
   "outputs": [
    {
     "data": {
      "text/plain": [
       "Text(0.5, 1.0, 'Linear Regression Dataset 4')"
      ]
     },
     "execution_count": 62,
     "metadata": {},
     "output_type": "execute_result"
    },
    {
     "data": {
      "image/png": "[encoded data removed]",
      "text/plain": [
       "<Figure size 640x480 with 1 Axes>"
      ]
     },
     "metadata": {},
     "output_type": "display_data"
    }
   ],
   "source": [
    "x = list(df[\"x3\"])\n",
    "y = list(df[\"y\"])\n",
    "y1 = list(df[\"predicted_values\"])\n",
    "\n",
    "\n",
    "plt.scatter(x, y,s=5)\n",
    "plt.scatter(x, y1, color='red',s=5)\n",
    "plt.xlabel(\"X\")\n",
    "plt.ylabel(\"Y\")\n",
    "plt.title(\"Linear Regression Dataset 4\")"
   ]
  },
  {
   "cell_type": "markdown",
   "metadata": {},
   "source": [
    "Verification THrough Scikit-Learn"
   ]
  },
  {
   "cell_type": "code",
   "execution_count": 63,
   "metadata": {},
   "outputs": [
    {
     "name": "stdout",
     "output_type": "stream",
     "text": [
      "Scikit-learn Model:\n",
      "Mean Squared Error: 34.62048082924356\n",
      "Mean Absolute Error: 5.1555056303787445\n",
      "Root Mean Squared Error: 5.883917133104745\n",
      "R-squared: 0.9841749058943147\n"
     ]
    }
   ],
   "source": [
    "\n",
    "# Prepare the input and output data\n",
    "input_columns = ['x0', 'x1','x2','x3']\n",
    "X = df[input_columns].values\n",
    "y = df['y'].values\n",
    "\n",
    "# Train a linear regression model using scikit-learn\n",
    "model_sklearn = LinearRegression()\n",
    "model_sklearn.fit(X, y)\n",
    "\n",
    "# Predict using scikit-learn model\n",
    "y_pred_sklearn = model_sklearn.predict(X)\n",
    "\n",
    "# Calculate evaluation metrics using scikit-learn model\n",
    "mse_sklearn = mean_squared_error(y, y_pred_sklearn)\n",
    "mae_sklearn = mean_absolute_error(y, y_pred_sklearn)\n",
    "rmse_sklearn = np.sqrt(mse_sklearn)\n",
    "r2_sklearn = r2_score(y, y_pred_sklearn)\n",
    "\n",
    "# Print evaluation metrics for scikit-learn model\n",
    "print(\"Scikit-learn Model:\")\n",
    "print(\"Mean Squared Error:\", mse_sklearn)\n",
    "print(\"Mean Absolute Error:\", mae_sklearn)\n",
    "print(\"Root Mean Squared Error:\", rmse_sklearn)\n",
    "print(\"R-squared:\", r2_sklearn)\n"
   ]
  },
  {
   "cell_type": "markdown",
   "metadata": {},
   "source": [
    "Gradient Descent (Dataset 4)"
   ]
  },
  {
   "cell_type": "code",
   "execution_count": 65,
   "metadata": {},
   "outputs": [
    {
     "name": "stdout",
     "output_type": "stream",
     "text": [
      "(6.060680905255514, 2.445134785871812, 7.766764500756425, 13.18578203958556)\n"
     ]
    }
   ],
   "source": [
    "def gradient_descent(X1, X2, X3, Y, learning_rate, epoch):\n",
    "\n",
    "    n = len(Y) #total number of datasets.\n",
    "    c = 0 #initialising with 0.\n",
    "    m1 = 0\n",
    "    m2 = 0\n",
    "    m3 = 0\n",
    "\n",
    "    for _ in range(epoch):\n",
    "\n",
    "        sum = 0\n",
    "        for i in range(n):\n",
    "            q = c + m1*X1[i] +  m2*X2[i] +  m3*X3[i] - Y[i]\n",
    "            sum = sum + q\n",
    "        c_new = c - learning_rate * ((2/n) * sum)\n",
    "        c = c_new\n",
    "\n",
    "        sum = 0\n",
    "        for i in range(n):\n",
    "            q = c*X1[i] + m1*X1[i]*X1[i] + m2*X2[i]*X1[i] + m3*X3[i]*X1[i] - Y[i]*X1[i]\n",
    "            sum = sum + q\n",
    "        m1_new = m1 - learning_rate * ((2/n) * sum)\n",
    "        m1 = m1_new\n",
    "\n",
    "        sum = 0\n",
    "        for i in range(n):\n",
    "            q = c*X2[i] + m1*X1[i]*X2[i] + m2*X2[i]*X2[i] + m3*X3[i]*X2[i] - Y[i]*X2[i]\n",
    "            sum = sum + q\n",
    "        m2_new = m2 - learning_rate * ((2/n) * sum)\n",
    "        m2 = m2_new\n",
    "\n",
    "        sum = 0\n",
    "        for i in range(n):\n",
    "            q = c*X3[i] + m1*X1[i]*X3[i] + m2*X2[i]*X3[i] + m3*X3[i]*X3[i] - Y[i]*X3[i]\n",
    "            sum = sum + q\n",
    "        m3_new = m3 - learning_rate * ((2/n) * sum)\n",
    "        m3 = m3_new\n",
    "\n",
    "    return (m1, m2, m3, c)\n",
    "X1 = df[\"x1\"]\n",
    "X2 = df[\"x2\"]\n",
    "X3 = df[\"x3\"]\n",
    "Y = df[\"y\"]\n",
    "result = gradient_descent(X1, X2, X3, Y, 0.01, 5000)\n",
    "print(result)\n",
    "\n",
    "# 6.13243763, 2.39226554, 7.74681038, 13.239477824445359"
   ]
  }
 ],
 "metadata": {
  "kernelspec": {
   "display_name": "Python 3",
   "language": "python",
   "name": "python3"
  },
  "language_info": {
   "codemirror_mode": {
    "name": "ipython",
    "version": 3
   },
   "file_extension": ".py",
   "mimetype": "text/x-python",
   "name": "python",
   "nbconvert_exporter": "python",
   "pygments_lexer": "ipython3",
   "version": "3.9.13"
  }
 },
 "nbformat": 4,
 "nbformat_minor": 2
}
